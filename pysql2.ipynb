{
 "cells": [
  {
   "cell_type": "code",
   "execution_count": 1,
   "id": "7fc0c0e9-81c6-436d-be7c-d01e9481d648",
   "metadata": {},
   "outputs": [
    {
     "name": "stdout",
     "output_type": "stream",
     "text": [
      "Requirement already satisfied: mysql-connector-python in /opt/anaconda3/lib/python3.11/site-packages (9.0.0)\n",
      "Note: you may need to restart the kernel to use updated packages.\n"
     ]
    }
   ],
   "source": [
    "pip install mysql-connector-python"
   ]
  },
  {
   "cell_type": "code",
   "execution_count": 1,
   "id": "a2040bd4-690a-40c9-9078-9517a53fbe6d",
   "metadata": {},
   "outputs": [
    {
     "name": "stdout",
     "output_type": "stream",
     "text": [
      "id                     0\n",
      "Route_Name             0\n",
      "Route_Link             0\n",
      "Bus_Name             308\n",
      "Bus_Type             320\n",
      "Departing_Time       308\n",
      "Duration             308\n",
      "Reaching_Time        308\n",
      "Star_Rating          309\n",
      "Price                308\n",
      "Seat_Availability    317\n",
      "dtype: int64\n"
     ]
    }
   ],
   "source": [
    "import pandas as pd\n",
    "import pymysql\n",
    "import mysql.connector\n",
    "import numpy as np\n",
    "\n",
    "# List of CSV file paths\n",
    "csv_files = [\n",
    "    \"ap_bus_details.csv\", \"assam_bus_details.csv\", \"chandigarh_bus_details.csv\",\n",
    "    \"himachal_bus_details.csv\", \"kaac_bus_details.csv\", \"kerala_bus_details.csv\",\n",
    "    \"rajasthan_bus_details.csv\", \"sb_bus_details.csv\", \"Telangana_bus_details.csv\",\n",
    "    \"up_bus_details.csv\", \"wb_bus_details.csv\", \"wb2_bus_details.csv\", \"jk_bus_details.csv\"\n",
    "]\n",
    "\n",
    "# Read each CSV file into a DataFrame and store it in a list\n",
    "dfs = [pd.read_csv(file) for file in csv_files]\n",
    "\n",
    "# Concatenate all DataFrames in the list\n",
    "combined_df = pd.concat(dfs, ignore_index=True)\n",
    "\n",
    "# Add an ID column\n",
    "combined_df.insert(0, 'id', range(1, len(combined_df) + 1))\n",
    "\n",
    "# Clean specific columns\n",
    "combined_df['Price'] = combined_df['Price'].str.replace('INR ', '', regex=False)\n",
    "combined_df['Seat_Availability'] = combined_df['Seat_Availability'].str.extract('(\\d+)')\n",
    "\n",
    "# Count of NaN values\n",
    "nan_counts = combined_df.isna().sum()\n",
    "print(nan_counts)\n",
    "\n",
    "# Fill NaN values with default values\n",
    "combined_df = combined_df.fillna('default_value')\n",
    "\n",
    "# Replace NaN values with None for MySQL compatibility\n",
    "combined_df = combined_df.apply(lambda x: x.where(pd.notna(x), None))\n",
    "\n",
    "# Save the combined DataFrame to a CSV file (optional)\n",
    "combined_df.to_csv(\"bus_routes.csv\", index=False)\n",
    "\n",
    "# Connect to MySQL database\n",
    "connection = pymysql.connect(\n",
    "    host='127.0.0.1',\n",
    "    user='root',\n",
    "    password='Raymond@17'\n",
    ")\n",
    "\n",
    "try:\n",
    "    cursor = connection.cursor()\n",
    "\n",
    "    # Create database if it does not exist\n",
    "    cursor.execute(\"CREATE DATABASE IF NOT EXISTS redbus\")\n",
    "    \n",
    "    # Select the database\n",
    "    cursor.execute(\"USE Redbus\")\n",
    "\n",
    "    # Clean column names\n",
    "    combined_df.columns = combined_df.columns.str.strip()  # Remove any leading/trailing whitespace\n",
    "    combined_df.columns = combined_df.columns.str.replace(' ', '_')  # Replace spaces with underscores\n",
    "\n",
    "    # Map DataFrame dtypes to MySQL types\n",
    "    dtype_mapping = {\n",
    "        'float64': 'FLOAT',\n",
    "        'int64': 'INT',\n",
    "        'object': 'TEXT'\n",
    "    }\n",
    "\n",
    "    # Generate column definitions for the SQL query\n",
    "    column_definitions = []\n",
    "    for col, dtype in zip(combined_df.columns, combined_df.dtypes):\n",
    "        sql_type = dtype_mapping.get(str(dtype), 'TEXT')  # Default to TEXT if dtype is unknown\n",
    "        column_definitions.append(f\"{col} {sql_type}\")\n",
    "\n",
    "    column_definitions_str = \", \".join(column_definitions)\n",
    "    \n",
    "    # Create table query\n",
    "    create_table_query = f\"CREATE TABLE IF NOT EXISTS bus_routes ({column_definitions_str})\"\n",
    "    \n",
    "    # Execute table creation\n",
    "    cursor.execute(create_table_query)\n",
    "    \n",
    "    # Prepare insert query\n",
    "    insert_query = f\"INSERT INTO bus_routes ({', '.join(combined_df.columns)}) VALUES ({', '.join(['%s'] * len(combined_df.columns))})\"\n",
    "    \n",
    "    # Insert data into the table\n",
    "    for row in combined_df.itertuples(index=False, name=None):\n",
    "        cursor.execute(insert_query, row)\n",
    "    \n",
    "    # Commit the transaction\n",
    "    connection.commit()\n",
    "\n",
    "except Exception as e:\n",
    "    # Print the error message\n",
    "    print(f\"An error occurred: {e}\")\n",
    "    \n",
    "    # Rollback the transaction in case of an error\n",
    "    connection.rollback()\n",
    "\n",
    "finally:\n",
    "    # Ensure the connection is closed\n",
    "    connection.close()"
   ]
  },
  {
   "cell_type": "code",
   "execution_count": null,
   "id": "e10eee7e-4883-4467-8efd-6ddc00c485ba",
   "metadata": {},
   "outputs": [],
   "source": []
  },
  {
   "cell_type": "code",
   "execution_count": null,
   "id": "41eec41c-d532-41fb-8b1c-8017a21617be",
   "metadata": {},
   "outputs": [],
   "source": []
  },
  {
   "cell_type": "code",
   "execution_count": null,
   "id": "344d2af2-a88e-4a6a-aa9e-1f9d3cc9a301",
   "metadata": {},
   "outputs": [],
   "source": []
  }
 ],
 "metadata": {
  "kernelspec": {
   "display_name": "Python 3 (ipykernel)",
   "language": "python",
   "name": "python3"
  },
  "language_info": {
   "codemirror_mode": {
    "name": "ipython",
    "version": 3
   },
   "file_extension": ".py",
   "mimetype": "text/x-python",
   "name": "python",
   "nbconvert_exporter": "python",
   "pygments_lexer": "ipython3",
   "version": "3.11.7"
  }
 },
 "nbformat": 4,
 "nbformat_minor": 5
}
